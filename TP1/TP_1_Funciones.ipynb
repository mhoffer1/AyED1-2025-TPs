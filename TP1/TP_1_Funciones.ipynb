{
 "cells": [
  {
   "cell_type": "markdown",
   "id": "ae0b2c6e",
   "metadata": {},
   "source": [
    "# Trabajo Práctico 1: Funciones\n",
    "\n",
    "1. Desarrollar una función que reciba tres números enteros positivos y devuelva el \n",
    "mayor de los tres, sólo si éste es único (es decir el mayor estricto). Devolver -1 en \n",
    "caso de no haber ninguno. No utilizar operadores lógicos (and, or, not). Desarrollar \n",
    "también un programa para ingresar los tres valores, invocar a la función y mostrar \n",
    "el máximo hallado, o un mensaje informativo si éste no existe."
   ]
  },
  {
   "cell_type": "code",
   "execution_count": null,
   "id": "6b881e2c",
   "metadata": {},
   "outputs": [
    {
     "name": "stdout",
     "output_type": "stream",
     "text": [
      "No hay un maximo unico.\n"
     ]
    }
   ],
   "source": [
    "def leer_positivo(texto: str) -> int:\n",
    "    while True:\n",
    "        n = int(input(texto))\n",
    "        if n < 0:\n",
    "            print(\"El numero debe ser positivo.\")\n",
    "        else:\n",
    "            return n\n",
    "\n",
    "def find_max(a: int, b: int, c: int) -> int:\n",
    "\n",
    "    maximo = max(a, b, c)\n",
    "\n",
    "    count = 0\n",
    "    if a == maximo:\n",
    "        count += 1\n",
    "    if b == maximo:\n",
    "        count += 1\n",
    "    if c == maximo:\n",
    "        count += 1\n",
    "    if count == 1:\n",
    "        return maximo\n",
    "    else:\n",
    "        return -1\n",
    "    \n",
    "def test_casos_maximo_unico():\n",
    "\n",
    "    assert find_max(1, 2, 3) == 3\n",
    "    assert find_max(8, 2, 1) == 8\n",
    "    assert find_max(1, 9, 1) == 9\n",
    "\n",
    "    print(\"Todos los casos de maximo unico pasaron correctamente.\")\n",
    "\n",
    "def test_casos_sin_maximo_unico():\n",
    "\n",
    "    assert find_max(1, 1, 1) == -1\n",
    "    assert find_max(2, 2, 3) == -1\n",
    "    assert find_max(3, 3, 3) == -1\n",
    "\n",
    "    print(\"Todos los casos de maximo sin unico pasaron correctamente.\")\n",
    "\n",
    "def main():\n",
    "\n",
    "    num1 = leer_positivo(\"Ingrese el primer numero: \")\n",
    "    num2 = leer_positivo(\"Ingrese el segundo numero: \")\n",
    "    num3 = leer_positivo(\"Ingrese el tercer numero: \")\n",
    "\n",
    "    resultado = find_max(num1, num2, num3)\n",
    "\n",
    "    if resultado == -1:\n",
    "        print(\"No hay un maximo unico.\")\n",
    "    else:\n",
    "        print(f\"El maximo unico es: {resultado}\")\n",
    "\n",
    "if __name__ == \"__main__\":\n",
    "    main()\n",
    "    test_casos_maximo_unico()\n",
    "    test_casos_sin_maximo_unico()\n"
   ]
  },
  {
   "cell_type": "markdown",
   "id": "91a7dfa1",
   "metadata": {},
   "source": [
    "2. Desarrollar una función que reciba tres números enteros positivos correspondientes \n",
    "al día, mes, año de una fecha y verifique si corresponden a una fecha válida. Debe \n",
    "tenerse en cuenta la cantidad de días de cada mes, incluyendo los años bisiestos. \n",
    "Devolver True o False según la fecha sea correcta o no. Realizar también un \n",
    "programa para verificar el comportamiento de la función."
   ]
  },
  {
   "cell_type": "code",
   "execution_count": null,
   "id": "08804c08",
   "metadata": {},
   "outputs": [
    {
     "name": "stdout",
     "output_type": "stream",
     "text": [
      "Todas las fechas validas han pasado las pruebas.\n",
      "Todas las fechas invalidas pasaron las pruebas\n"
     ]
    }
   ],
   "source": [
    "from datetime import date\n",
    "\n",
    "def test_fechas_validas():\n",
    "    assert validar_fecha(15, 6, 2023) == True\n",
    "    assert validar_fecha(29, 2, 2024) == True\n",
    "    assert validar_fecha(31, 12, 2023) == True\n",
    "    assert validar_fecha(1, 1, 2000) == True\n",
    "\n",
    "    print(\"Todas las fechas validas han pasado las pruebas.\")\n",
    "\n",
    "def test_fechas_invalidas():\n",
    "    assert validar_fecha(32, 1, 2023) == False\n",
    "    assert validar_fecha(29, 2, 2023) == False\n",
    "    assert validar_fecha(31, 4, 2023) == False\n",
    "    assert validar_fecha(0, 6, 2023) == False\n",
    "\n",
    "    print(\"Todas las fechas invalidas pasaron las pruebas\")\n",
    "\n",
    "def validar_fecha(dia: int, mes: int, anio: int) -> bool:\n",
    "    \n",
    "    try:\n",
    "        date(anio, mes, dia)\n",
    "        return True\n",
    "    except ValueError:\n",
    "        return False\n",
    "\n",
    "def main():\n",
    "\n",
    "    dia = int(input(\"Ingrese el dia: \"))\n",
    "    mes = int(input(\"Ingrese el mes: \"))\n",
    "    anio = int(input(\"Ingrese el anio: \"))\n",
    "\n",
    "    if validar_fecha(dia, mes, anio):\n",
    "        print(\"La fecha es valida.\")\n",
    "    else:\n",
    "        print(\"La fecha no es valida.\")\n",
    "\n",
    "if __name__ == \"__main__\":\n",
    "    #main()\n",
    "    test_fechas_validas()\n",
    "    test_fechas_invalidas()"
   ]
  },
  {
   "cell_type": "markdown",
   "id": "c02ea6cf",
   "metadata": {},
   "source": [
    "3. Una persona desea llevar el control de los gastos realizados al viajar en el subterráneo dentro de un mes. Sabiendo que dicho medio de transporte utiliza un esquema de tarifas decrecientes (detalladas en la tabla de abajo) se solicita desarrollar una función que reciba como parámetro la cantidad de viajes realizados en un determinado mes y devuelva el total gastado en viajes. Realizar también un programa para verificar el comportamiento de la función.\n",
    "\n",
    "<div align=\"center\">\n",
    "\n",
    "| Cantidad de viajes | Valor del pasaje |\n",
    "|-------------------|------------------|\n",
    "| 1 a 20 | Averiguar en Internet el valor actualizado |\n",
    "| 21 a 30 | 20% de descuento sobre tarifa máxima |\n",
    "| 31 a 40 | 30% de descuento sobre tarifa máxima |\n",
    "| Más de 40 | 40% de descuento sobre tarifa máxima |\n",
    "\n",
    "</div>"
   ]
  },
  {
   "cell_type": "code",
   "execution_count": null,
   "id": "fb2a7dc0",
   "metadata": {},
   "outputs": [],
   "source": [
    "def gasto_viajes(viajes):\n",
    "    "
   ]
  },
  {
   "cell_type": "markdown",
   "id": "255d1c75",
   "metadata": {},
   "source": [
    "4. Un comercio de electrodomésticos necesita para su línea de cajas un programa que \n",
    "le indique al cajero el cambio que debe entregarle al cliente. Para eso se ingresan \n",
    "dos números enteros, correspondientes al total de la compra y al dinero recibido. \n",
    "Informar cuántos billetes de cada denominación deben ser entregados como vuelto, \n",
    "de tal forma que se minimice la cantidad de billetes. Considerar que existen billetes \n",
    "de $5000, $1000, $500, $200, $100, $50 y $10. Emitir un mensaje de error si el \n",
    "dinero recibido fuera insuficiente o si el cambio no pudiera entregarse debido a falta \n",
    "de billetes con denominaciones adecuadas. Ejemplo: Si la compra es de $3170 y se \n",
    "abona con $5000, el vuelto debe contener 1 billete de $1000, 1 billete de $500, 1 \n",
    "billete de $200, 1 billete de $100 y 3 billetes de $10."
   ]
  },
  {
   "cell_type": "code",
   "execution_count": null,
   "id": "908d1f38",
   "metadata": {},
   "outputs": [],
   "source": []
  },
  {
   "cell_type": "markdown",
   "id": "b185e8b4",
   "metadata": {},
   "source": [
    "5. Escribir funciones lambda para:\n",
    "\n",
    "   **a.** Informar si un número es oblongo. Se dice que un número es oblongo cuando se puede obtener multiplicando dos números naturales consecutivos. Por ejemplo 6 es oblongo porque resulta de multiplicar 2 × 3.\n",
    "\n",
    "   **b.** Informar si un número es triangular. Un número se define como triangular si puede expresarse como la suma de un grupo de números naturales consecutivos comenzando desde 1. Por ejemplo 10 es un número triangular porque se obtiene sumando 1+2+3+4.\n",
    "\n",
    "Ambas funciones lambda reciben como único parámetro el número a evaluar y devuelven `True` o `False`. No se permite utilizar ayudas externas a las mismas."
   ]
  },
  {
   "cell_type": "code",
   "execution_count": null,
   "id": "2053f96b",
   "metadata": {},
   "outputs": [],
   "source": []
  },
  {
   "cell_type": "markdown",
   "id": "9595622f",
   "metadata": {},
   "source": [
    "6. Desarrollar una función que reciba como parámetros dos números enteros positivos \n",
    "y devuelva como valor de retorno el número que resulte de concatenar ambos \n",
    "parámetros. Por ejemplo, si recibe 1234 y 567 debe devolver 1234567. No se per\n",
    "mite utilizar facilidades de Python no vistas en clase."
   ]
  },
  {
   "cell_type": "code",
   "execution_count": 22,
   "id": "ff019c31",
   "metadata": {},
   "outputs": [
    {
     "name": "stdout",
     "output_type": "stream",
     "text": [
      "El resultado de la concatenacion es: 1234567\n",
      "Todos los casos de concatenacion de numeros pasaron correctamente.\n"
     ]
    }
   ],
   "source": [
    "def test_concatenacion_numeros():\n",
    "    assert concatenar(\"123\", \"456\") == \"123456\"\n",
    "    assert concatenar(\"0\", \"0\") == \"00\"\n",
    "    assert concatenar(\"1\", \"2\") == \"12\"\n",
    "    \n",
    "    print(\"Todos los casos de concatenacion de numeros pasaron correctamente.\")\n",
    "\n",
    "def leer_positivo(texto: str) -> str:\n",
    "    while True:\n",
    "        n = int(input(texto))\n",
    "        if n < 0:\n",
    "            print(\"El numero debe ser positivo.\")\n",
    "        else:\n",
    "            return str(n)\n",
    "        \n",
    "def concatenar(a: str, b: str) -> str:\n",
    "    return a + b\n",
    "\n",
    "def main():\n",
    "\n",
    "    num1 = leer_positivo(\"Ingrese el primer numero: \")\n",
    "    num2 = leer_positivo(\"Ingrese el segundo numero: \")\n",
    "\n",
    "    resultado = concatenar(num1, num2)\n",
    "    print(f\"El resultado de la concatenacion es: {resultado}\")\n",
    "\n",
    "if __name__ == \"__main__\":\n",
    "    main()\n",
    "    test_concatenacion_numeros()\n"
   ]
  },
  {
   "cell_type": "markdown",
   "id": "c6719578",
   "metadata": {},
   "source": [
    " 7. Escribir una función diasiguiente(dia, mes año) que reciba como parámetro una \n",
    "fecha cualquiera expresada por tres enteros y calcule y devuelva otros tres enteros \n",
    "correspondientes el día siguiente al dado. Utilizando esta función sin modificaciones \n",
    "ni agregados, desarrollar programas que permitan:\n",
    " a. Sumar N días a una fecha.\n",
    " b. Calcular la cantidad de días existentes entre dos fechas cualesquiera."
   ]
  },
  {
   "cell_type": "code",
   "execution_count": null,
   "id": "56e85d38",
   "metadata": {},
   "outputs": [],
   "source": [
    "import datetime\n",
    "\n",
    "def diasiguiente(dia, mes, anio):\n"
   ]
  },
  {
   "cell_type": "markdown",
   "id": "7cb6db0e",
   "metadata": {},
   "source": [
    "8. La siguiente función permite averiguar el día de la semana para una fecha determinada. La fecha se suministra en forma de tres parámetros enteros y la función de vuelve 0 para domingo, 1 para lunes, 2 para martes, etc. Escribir un programa para  imprimir por pantalla el calendario de un mes completo, correspondiente a un mes y año cualquiera basándose en la función suministrada. Considerar que la semana comienza en domingo."
   ]
  },
  {
   "cell_type": "code",
   "execution_count": null,
   "id": "f1f86758",
   "metadata": {},
   "outputs": [],
   "source": [
    "def diadelasemana(dia, mes, anio): \n",
    "    if mes < 3: \n",
    "        mes = mes + 10 \n",
    "        anio = anio - 1 \n",
    "    else: \n",
    "        mes = mes - 2 \n",
    "    siglo = anio // 100 \n",
    "    anio2 = anio % 100 \n",
    "    diasem = (((26*mes-2)//10)+dia+anio2+(anio2//4)+(siglo//4)-(2*siglo))%7 \n",
    "    if diasem < 0: \n",
    "        diasem = diasem + 7 \n",
    "    return diasem"
   ]
  },
  {
   "cell_type": "code",
   "execution_count": 30,
   "id": "f3075c8f",
   "metadata": {},
   "outputs": [
    {
     "name": "stdout",
     "output_type": "stream",
     "text": [
      "\n",
      "Enero 2000\n",
      "==========\n",
      "Dom Lun Mar Mie Jue Vie Sab\n",
      "----------------------------\n",
      "                               1  \n",
      " 2   3   4   5   6   7   8  \n",
      " 9  10  11  12  13  14  15  \n",
      "16  17  18  19  20  21  22  \n",
      "23  24  25  26  27  28  29  \n",
      "30  31  \n",
      "\n"
     ]
    }
   ],
   "source": [
    "def diadelasemana(dia, mes, anio): \n",
    "    if mes < 3: \n",
    "        mes = mes + 10 \n",
    "        anio = anio - 1 \n",
    "    else: \n",
    "        mes = mes - 2 \n",
    "    siglo = anio // 100 \n",
    "    anio2 = anio % 100 \n",
    "    diasem = (((26*mes-2)//10)+dia+anio2+(anio2//4)+(siglo//4)-(2*siglo))%7 \n",
    "    if diasem < 0: \n",
    "        diasem = diasem + 7 \n",
    "    return diasem\n",
    "\n",
    "def es_bisiesto(anio):\n",
    "    return (anio % 4 == 0 and anio % 100 != 0) or (anio % 400 == 0)\n",
    "\n",
    "def dias_en_mes(mes, anio):\n",
    "\n",
    "    if mes in [1, 3, 5, 7, 8, 10, 12]:\n",
    "        return 31\n",
    "    elif mes in [4, 6, 9, 11]:\n",
    "        return 30\n",
    "    elif mes == 2:\n",
    "        if es_bisiesto(anio):\n",
    "            return 29\n",
    "        else:\n",
    "            return 28\n",
    "\n",
    "def nombre_mes(mes):\n",
    "    meses = [\"Enero\", \"Febrero\", \"Marzo\", \"Abril\", \"Mayo\", \"Junio\", \"Julio\", \"Agosto\", \"Septiembre\", \"Octubre\", \"Noviembre\", \"Diciembre\"]\n",
    "    return meses[mes - 1]\n",
    "\n",
    "def imprimir_calendario(mes, anio):\n",
    "\n",
    "    primer_dia = diadelasemana(1, mes, anio)\n",
    "\n",
    "    dia_del_mes = dias_en_mes(mes, anio)\n",
    "\n",
    "    titulo = f\"{nombre_mes(mes)} {anio}\"\n",
    "    print(f\"\\n{titulo}\")\n",
    "    print(\"=\" * len(titulo))\n",
    "    print(\"Dom Lun Mar Mie Jue Vie Sab\")\n",
    "    print(\"-\" * 28)\n",
    "\n",
    "    for i in range(primer_dia):\n",
    "        print(\"    \", end=\" \")\n",
    "\n",
    "    for dia in range(1, dia_del_mes + 1):\n",
    "        print(f\"{dia:2d} \", end=\" \")\n",
    "        \n",
    "        if (dia + primer_dia - 1) % 7 == 6:\n",
    "            print()\n",
    "    \n",
    "    if (primer_dia + dia_del_mes - 1) % 7 != 6:\n",
    "        print()\n",
    "    \n",
    "    print()\n",
    "\n",
    "def main():\n",
    "\n",
    "    try:\n",
    "        # Solicitar mes y año al usuario\n",
    "        mes = int(input(\"\\nIngrese el mes (1-12): \"))\n",
    "        año = int(input(\"Ingrese el año: \"))\n",
    "        \n",
    "        # Validar entrada\n",
    "        if mes < 1 or mes > 12:\n",
    "            print(\"Error: El mes debe estar entre 1 y 12\")\n",
    "            return\n",
    "        \n",
    "        if año < 1:\n",
    "            print(\"Error: El año debe ser positivo\")\n",
    "            return\n",
    "        \n",
    "        # Imprimir el calendario\n",
    "        imprimir_calendario(mes, año)\n",
    "    except ValueError:\n",
    "        print(\"Error: Por favor ingrese números válidos\")\n",
    "\n",
    "if __name__ == \"__main__\":\n",
    "    main()\n"
   ]
  },
  {
   "cell_type": "markdown",
   "id": "c102a8aa",
   "metadata": {},
   "source": [
    "9. Resolver el siguiente problema utilizando funciones:\n",
    "\n",
    "    Un productor frutihortícola desea contabilizar sus cajones de naranjas según el peso \n",
    "para poder cargar los camiones de reparto. La empresa cuenta con N camiones, y \n",
    "cada uno puede transportar hasta media tonelada (500 kilogramos). En un cajón \n",
    "caben 100 naranjas con un peso de entre 200 y 300 gramos cada una. Si el peso \n",
    "de alguna naranja se encuentra fuera del rango indicado se la clasifica para \n",
    "procesar como jugo. Desarrollar un programa para ingresar la cantidad de naranjas \n",
    "cosechadas e informar cuántos cajones se pueden llenar, cuántas naranjas son para \n",
    "jugo y si hay algún sobrante de naranjas que deba considerarse para el siguiente \n",
    "reparto. Simular el peso de cada unidad generando un número entero al azar entre \n",
    "150 y 350.\n",
    "\n",
    "    Además, se desea saber cuántos camiones se necesitan para transportar la cose\n",
    "cha, considerando que la ocupación del camión no debe ser inferior al 80%; en \n",
    "caso contrario el camión no serán despachado por su alto costo. "
   ]
  },
  {
   "cell_type": "code",
   "execution_count": null,
   "id": "5bddd85e",
   "metadata": {},
   "outputs": [],
   "source": []
  }
 ],
 "metadata": {
  "kernelspec": {
   "display_name": "Python 3",
   "language": "python",
   "name": "python3"
  },
  "language_info": {
   "codemirror_mode": {
    "name": "ipython",
    "version": 3
   },
   "file_extension": ".py",
   "mimetype": "text/x-python",
   "name": "python",
   "nbconvert_exporter": "python",
   "pygments_lexer": "ipython3",
   "version": "3.13.7"
  }
 },
 "nbformat": 4,
 "nbformat_minor": 5
}
